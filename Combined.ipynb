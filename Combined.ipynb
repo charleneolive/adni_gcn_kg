{
 "cells": [
  {
   "cell_type": "markdown",
   "id": "9883ff9f-72d2-4aa7-8e9c-e20087f6b614",
   "metadata": {},
   "source": [
    "## Script for Ablation Studies"
   ]
  },
  {
   "cell_type": "code",
   "execution_count": 1,
   "id": "ab1c9f35-f17c-4f63-b033-94b239055a74",
   "metadata": {},
   "outputs": [],
   "source": [
    "import pandas as pd\n",
    "import numpy as np\n",
    "import collections\n",
    "# import lmdb\n",
    "# import msgpack, msgpack_numpy\n",
    "import glob\n",
    "import os\n",
    "import re\n",
    "import datetime\n",
    "from datetime import datetime\n",
    "from sklearn import preprocessing\n",
    "import xml.etree.ElementTree as ET\n",
    "from sklearn.model_selection import train_test_split\n",
    "\n",
    "from utils.dataprep_utils import check_duplicate, read_triple, patientInfo, findPatientInfo, get_all_categories\n",
    "\n",
    "DATA_PATH2_ppmi = \"./processed_data/pd_data\"\n",
    "\n",
    "DATA_PATH2_adni = \"./processed_data/adni_data\"\n",
    "DATA_PATH2 = \"./processed_data/ablation_text\"\n",
    "remove = \"Text\"\n",
    "split_size = 0.2"
   ]
  },
  {
   "cell_type": "code",
   "execution_count": 2,
   "id": "1f67f28e-1b8f-4910-9724-1dc6b9065ad3",
   "metadata": {},
   "outputs": [],
   "source": [
    "df_ppmi = pd.read_pickle(os.path.join(DATA_PATH2_ppmi,\"intermediate.pkl\"))\n",
    "df_adni = pd.read_pickle(os.path.join(DATA_PATH2_adni,\"intermediate.pkl\"))\n",
    "\n"
   ]
  },
  {
   "cell_type": "code",
   "execution_count": 3,
   "id": "6629071f-8be7-4841-8ff1-28fa3a610668",
   "metadata": {},
   "outputs": [
    {
     "name": "stdout",
     "output_type": "stream",
     "text": [
      "['/data/data_repo/neuro_img/ADNI/mri/MRI_N3_from_DTI_ECC_merged/003_S_0908/Spatially_Normalized,_Masked_and_N3_corrected_T1_image/2014-01-06_13_40_49.0/S210040/ADNI_003_S_0908_MR_Spatially_Normalized,_Masked_and_N3_corrected_T1_image_Br_20140421160207788_S210040_I420849.nii']\n",
      "/data/data_repo/neuro_img/PPMI/mri/4136_PD_2013-02-28/4136_PD_2013-02-28_sMRI.nii\n"
     ]
    }
   ],
   "source": [
    "sample_image = df_ppmi[df_ppmi[\"hasRelation\"]==\"hasImage\"]['tail'].iloc[0]\n",
    "sample_image2 = df_adni[df_adni[\"hasRelation\"]==\"hasImage\"]['tail'].iloc[0]\n",
    "print(sample_image2)\n",
    "print(sample_image)"
   ]
  },
  {
   "cell_type": "code",
   "execution_count": 4,
   "id": "94177715-1d5b-467e-9576-568fd2538dea",
   "metadata": {},
   "outputs": [],
   "source": [
    "df_ppmi = df_ppmi.reset_index()\n",
    "df_adni = df_adni.reset_index()"
   ]
  },
  {
   "cell_type": "markdown",
   "id": "a3384384-d514-4848-833d-30b5b3433c06",
   "metadata": {},
   "source": [
    "## remove some entities"
   ]
  },
  {
   "cell_type": "code",
   "execution_count": 5,
   "id": "53a09702-ae19-4b9a-bb55-904577dda87e",
   "metadata": {},
   "outputs": [],
   "source": [
    "if remove == \"Images\":\n",
    "    df_ppmi = df_ppmi.drop(df_ppmi[df_ppmi.hasRelation == \"hasImage\"].index)\n",
    "\n",
    "    df_adni = df_adni.drop(df_adni[df_adni.hasRelation == \"hasImage\"].index)\n",
    "elif remove == \"Text\":\n",
    "    df_ppmi = df_ppmi.drop(df_ppmi[df_ppmi.hasRelation == \"hasCONDTERM\"].index)"
   ]
  },
  {
   "cell_type": "code",
   "execution_count": 6,
   "id": "ef6f7cca-7ef2-4e69-a504-78055e61c3c6",
   "metadata": {},
   "outputs": [
    {
     "data": {
      "text/html": [
       "<div>\n",
       "<style scoped>\n",
       "    .dataframe tbody tr th:only-of-type {\n",
       "        vertical-align: middle;\n",
       "    }\n",
       "\n",
       "    .dataframe tbody tr th {\n",
       "        vertical-align: top;\n",
       "    }\n",
       "\n",
       "    .dataframe thead th {\n",
       "        text-align: right;\n",
       "    }\n",
       "</style>\n",
       "<table border=\"1\" class=\"dataframe\">\n",
       "  <thead>\n",
       "    <tr style=\"text-align: right;\">\n",
       "      <th></th>\n",
       "      <th>index</th>\n",
       "      <th>subject_name</th>\n",
       "      <th>hasRelation</th>\n",
       "      <th>tail</th>\n",
       "    </tr>\n",
       "  </thead>\n",
       "  <tbody>\n",
       "    <tr>\n",
       "      <th>0</th>\n",
       "      <td>0</td>\n",
       "      <td>4136</td>\n",
       "      <td>hasResearchGroup</td>\n",
       "      <td>PD</td>\n",
       "    </tr>\n",
       "    <tr>\n",
       "      <th>1</th>\n",
       "      <td>1</td>\n",
       "      <td>4135</td>\n",
       "      <td>hasResearchGroup</td>\n",
       "      <td>PD</td>\n",
       "    </tr>\n",
       "    <tr>\n",
       "      <th>2</th>\n",
       "      <td>2</td>\n",
       "      <td>4085</td>\n",
       "      <td>hasResearchGroup</td>\n",
       "      <td>Control</td>\n",
       "    </tr>\n",
       "    <tr>\n",
       "      <th>3</th>\n",
       "      <td>3</td>\n",
       "      <td>4083</td>\n",
       "      <td>hasResearchGroup</td>\n",
       "      <td>PD</td>\n",
       "    </tr>\n",
       "    <tr>\n",
       "      <th>4</th>\n",
       "      <td>4</td>\n",
       "      <td>4082</td>\n",
       "      <td>hasResearchGroup</td>\n",
       "      <td>PD</td>\n",
       "    </tr>\n",
       "    <tr>\n",
       "      <th>...</th>\n",
       "      <td>...</td>\n",
       "      <td>...</td>\n",
       "      <td>...</td>\n",
       "      <td>...</td>\n",
       "    </tr>\n",
       "    <tr>\n",
       "      <th>1819</th>\n",
       "      <td>222</td>\n",
       "      <td>3106</td>\n",
       "      <td>hasImage</td>\n",
       "      <td>/data/data_repo/neuro_img/PPMI/mri/3106_Contro...</td>\n",
       "    </tr>\n",
       "    <tr>\n",
       "      <th>1820</th>\n",
       "      <td>223</td>\n",
       "      <td>3105</td>\n",
       "      <td>hasImage</td>\n",
       "      <td>/data/data_repo/neuro_img/PPMI/mri/3105_PD_201...</td>\n",
       "    </tr>\n",
       "    <tr>\n",
       "      <th>1821</th>\n",
       "      <td>224</td>\n",
       "      <td>3104</td>\n",
       "      <td>hasImage</td>\n",
       "      <td>/data/data_repo/neuro_img/PPMI/mri/3104_Contro...</td>\n",
       "    </tr>\n",
       "    <tr>\n",
       "      <th>1822</th>\n",
       "      <td>225</td>\n",
       "      <td>3102</td>\n",
       "      <td>hasImage</td>\n",
       "      <td>/data/data_repo/neuro_img/PPMI/mri/3102_PD_201...</td>\n",
       "    </tr>\n",
       "    <tr>\n",
       "      <th>1823</th>\n",
       "      <td>226</td>\n",
       "      <td>3101</td>\n",
       "      <td>hasImage</td>\n",
       "      <td>/data/data_repo/neuro_img/PPMI/mri/3101_SWEDD_...</td>\n",
       "    </tr>\n",
       "  </tbody>\n",
       "</table>\n",
       "<p>1691 rows × 4 columns</p>\n",
       "</div>"
      ],
      "text/plain": [
       "      index  subject_name       hasRelation  \\\n",
       "0         0          4136  hasResearchGroup   \n",
       "1         1          4135  hasResearchGroup   \n",
       "2         2          4085  hasResearchGroup   \n",
       "3         3          4083  hasResearchGroup   \n",
       "4         4          4082  hasResearchGroup   \n",
       "...     ...           ...               ...   \n",
       "1819    222          3106          hasImage   \n",
       "1820    223          3105          hasImage   \n",
       "1821    224          3104          hasImage   \n",
       "1822    225          3102          hasImage   \n",
       "1823    226          3101          hasImage   \n",
       "\n",
       "                                                   tail  \n",
       "0                                                    PD  \n",
       "1                                                    PD  \n",
       "2                                               Control  \n",
       "3                                                    PD  \n",
       "4                                                    PD  \n",
       "...                                                 ...  \n",
       "1819  /data/data_repo/neuro_img/PPMI/mri/3106_Contro...  \n",
       "1820  /data/data_repo/neuro_img/PPMI/mri/3105_PD_201...  \n",
       "1821  /data/data_repo/neuro_img/PPMI/mri/3104_Contro...  \n",
       "1822  /data/data_repo/neuro_img/PPMI/mri/3102_PD_201...  \n",
       "1823  /data/data_repo/neuro_img/PPMI/mri/3101_SWEDD_...  \n",
       "\n",
       "[1691 rows x 4 columns]"
      ]
     },
     "execution_count": 6,
     "metadata": {},
     "output_type": "execute_result"
    }
   ],
   "source": [
    "df_ppmi"
   ]
  },
  {
   "cell_type": "code",
   "execution_count": 7,
   "id": "53c39d96-1ea9-456e-b46b-baab3c876887",
   "metadata": {},
   "outputs": [],
   "source": [
    "df_research= pd.concat([df_ppmi[df_ppmi[\"hasRelation\"]==\"hasResearchGroup\"],df_adni[df_adni[\"hasRelation\"]==\"hasResearchGroup\"]])"
   ]
  },
  {
   "cell_type": "code",
   "execution_count": 8,
   "id": "4537173f-e03f-439b-8726-d474917cbb65",
   "metadata": {},
   "outputs": [],
   "source": [
    "df_research = df_research.replace(\"Control\", \"CN\")"
   ]
  },
  {
   "cell_type": "code",
   "execution_count": 9,
   "id": "886b7af4-a9e3-44eb-b8b2-738f47d046e0",
   "metadata": {},
   "outputs": [],
   "source": [
    "df_research.loc[(df_research['tail'] == \"PD\") | (df_research['tail'] == \"SWEDD\") | (df_research['tail'] == \"AD\") | (df_research['tail'] == \"LMCI\") | (df_research['tail'] == \"MCI\"), 'new_tail'] = 'Diseased' \n",
    "df_research.loc[(df_research['tail'] == \"CN\") | (df_research['tail'] == \"EMCI\") | (df_research['tail'] == \"SMC\"), 'new_tail'] = 'Non-Diseased' \n"
   ]
  },
  {
   "cell_type": "code",
   "execution_count": 10,
   "id": "d9bb6b64-e46c-4baf-b5ab-41177ac612a7",
   "metadata": {},
   "outputs": [
    {
     "data": {
      "text/plain": [
       "Diseased        255\n",
       "Non-Diseased    254\n",
       "Name: new_tail, dtype: int64"
      ]
     },
     "execution_count": 10,
     "metadata": {},
     "output_type": "execute_result"
    }
   ],
   "source": [
    "df_research['new_tail'].value_counts()"
   ]
  },
  {
   "cell_type": "code",
   "execution_count": 11,
   "id": "17a79caa-943f-4f97-a036-34de31046b91",
   "metadata": {},
   "outputs": [],
   "source": [
    "df_ppmi = df_ppmi[df_ppmi.hasRelation != \"hasResearchGroup\"]\n",
    "df_adni = df_adni[df_adni.hasRelation != \"hasResearchGroup\"]\n",
    "all_dfs = pd.concat([df_ppmi, df_adni])"
   ]
  },
  {
   "cell_type": "code",
   "execution_count": 12,
   "id": "7bd87d0b-37ae-4cc3-b521-9bb0d4a7bf38",
   "metadata": {},
   "outputs": [],
   "source": [
    "\n",
    "relations_df = pd.DataFrame(all_dfs.hasRelation.unique(), columns=[\"label\"])\n",
    "relations_df.index.name = \"index\"\n",
    "relations_df.to_csv(os.path.join(DATA_PATH2,\"relations.int.csv\"))\n",
    "\n",
    "all_dfs2 = all_dfs.explode('tail')\n",
    "all_dfs2.to_csv(os.path.join(DATA_PATH2, \"triples.csv\"), index=False)"
   ]
  },
  {
   "cell_type": "code",
   "execution_count": 13,
   "id": "0e350638-1f08-4fa7-845e-3702e5abec70",
   "metadata": {},
   "outputs": [],
   "source": [
    "'''\n",
    "Create training and validation set\n",
    "'''\n",
    "all_keys = {}\n",
    "all_keys['researchGroup'] = df_research['new_tail'].unique().tolist()\n",
    "entity2id = {}\n",
    "relation2id = {}\n",
    "id2relation = {}\n",
    "id2entity = {}\n",
    "\n",
    "annotations = []\n",
    "label = []\n",
    "index = []\n",
    "class_name = []\n",
    "\n",
    "relation_counter = 0\n",
    "entity_counter = 0\n",
    "for idx,row in all_dfs2.iterrows():\n",
    "    triplet = [row['subject_name'],row['hasRelation'],row['tail']]\n",
    "    e1, r, e2 = triplet\n",
    "    # if the subject number is not in dictionary entity2id, then add to dictionary and assign an ID\n",
    "    if e1 not in entity2id:\n",
    "        entity2id[e1] = entity_counter\n",
    "        id2entity[entity_counter] = e1\n",
    "        entity_counter += 1\n",
    "        annotations.append(\"hasName\")\n",
    "        label.append(e1)\n",
    "        index.append(entity_counter)\n",
    "        class_name.append(all_keys['researchGroup'].index(df_research[df_research[\"subject_name\"]==e1]['new_tail'].tolist()[0]))\n",
    "    # if the relation is not in dictionary entity2id, then add to dictionary and assign an ID\n",
    "    if e2 not in entity2id:\n",
    "        entity2id[e2] = entity_counter\n",
    "        id2entity[entity_counter] = e2\n",
    "        entity_counter += 1\n",
    "        annotations.append(r)\n",
    "        label.append(e2)\n",
    "    # if the relation number is not in dictionary relation2id, then add to dictionary and assign an ID\n",
    "    if r not in relation2id:\n",
    "        relation2id[r] = relation_counter\n",
    "        id2relation[relation_counter] = r\n",
    "        relation_counter += 1\n"
   ]
  },
  {
   "cell_type": "code",
   "execution_count": 14,
   "id": "26b62294-aaf0-412b-9ea4-613f7676602a",
   "metadata": {},
   "outputs": [],
   "source": [
    "# SAVE FILES\n",
    "nodes_df = pd.DataFrame({\"annotation\":annotations, \"label\":label})\n",
    "nodes_df.index.name = \"index\"\n",
    "nodes_df.to_csv(os.path.join(DATA_PATH2,\"nodes.int.csv\"))\n",
    "\n",
    "data = pd.DataFrame({'index':index, 'class':class_name})\n",
    "train_val_data, test_data = train_test_split(data, test_size = split_size, random_state=0)\n",
    "train_data, val_data= train_test_split(train_val_data, test_size = split_size, random_state=0)\n",
    "train_data.to_csv(os.path.join(DATA_PATH2, \"train.csv\"), index=False)\n",
    "val_data.to_csv(os.path.join(DATA_PATH2, \"val.csv\"), index=False)\n",
    "test_data.to_csv(os.path.join(DATA_PATH2, \"test.csv\"), index=False)\n",
    "\n",
    "triples = read_triple(all_dfs2, entity2id, relation2id)\n",
    "np.savetxt(os.path.join(DATA_PATH2,\"triples.txt\"), triples, fmt='%s')"
   ]
  },
  {
   "cell_type": "code",
   "execution_count": null,
   "id": "d2de2264-7bc2-4b1d-a4e3-b0c45e8dec8d",
   "metadata": {},
   "outputs": [],
   "source": []
  }
 ],
 "metadata": {
  "kernelspec": {
   "display_name": "Python 3",
   "language": "python",
   "name": "python3"
  },
  "language_info": {
   "codemirror_mode": {
    "name": "ipython",
    "version": 3
   },
   "file_extension": ".py",
   "mimetype": "text/x-python",
   "name": "python",
   "nbconvert_exporter": "python",
   "pygments_lexer": "ipython3",
   "version": "3.7.2"
  }
 },
 "nbformat": 4,
 "nbformat_minor": 5
}
